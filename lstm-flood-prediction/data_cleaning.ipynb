{
 "cells": [
  {
   "cell_type": "code",
   "execution_count": 5,
   "id": "39c2bdae",
   "metadata": {},
   "outputs": [],
   "source": [
    "# Import các thư viện cần dùng\n",
    "%matplotlib inline\n",
    "\n",
    "import pandas as pd\n",
    "import re\n",
    "from pandas import DataFrame\n",
    "import numpy as np\n",
    "from matplotlib import pyplot as plt\n",
    "\n",
    "import matplotlib\n",
    "matplotlib.rcParams[\"figure.figsize\"] = (20, 10)"
   ]
  },
  {
   "cell_type": "code",
   "execution_count": 6,
   "id": "90b0b763",
   "metadata": {},
   "outputs": [
    {
     "data": {
      "text/html": [
       "<div>\n",
       "<style scoped>\n",
       "    .dataframe tbody tr th:only-of-type {\n",
       "        vertical-align: middle;\n",
       "    }\n",
       "\n",
       "    .dataframe tbody tr th {\n",
       "        vertical-align: top;\n",
       "    }\n",
       "\n",
       "    .dataframe thead th {\n",
       "        text-align: right;\n",
       "    }\n",
       "</style>\n",
       "<table border=\"1\" class=\"dataframe\">\n",
       "  <thead>\n",
       "    <tr style=\"text-align: right;\">\n",
       "      <th></th>\n",
       "      <th>datetime</th>\n",
       "      <th>waterlevel</th>\n",
       "    </tr>\n",
       "  </thead>\n",
       "  <tbody>\n",
       "    <tr>\n",
       "      <th>0</th>\n",
       "      <td>7/4/2013 21:30</td>\n",
       "      <td>NaN</td>\n",
       "    </tr>\n",
       "    <tr>\n",
       "      <th>1</th>\n",
       "      <td>7/4/2013 21:40</td>\n",
       "      <td>NaN</td>\n",
       "    </tr>\n",
       "    <tr>\n",
       "      <th>2</th>\n",
       "      <td>7/4/2013 21:50</td>\n",
       "      <td>27*</td>\n",
       "    </tr>\n",
       "    <tr>\n",
       "      <th>3</th>\n",
       "      <td>7/4/2013 22:00</td>\n",
       "      <td>28#</td>\n",
       "    </tr>\n",
       "    <tr>\n",
       "      <th>4</th>\n",
       "      <td>7/4/2013 22:10</td>\n",
       "      <td>28&amp;</td>\n",
       "    </tr>\n",
       "  </tbody>\n",
       "</table>\n",
       "</div>"
      ],
      "text/plain": [
       "         datetime waterlevel\n",
       "0  7/4/2013 21:30        NaN\n",
       "1  7/4/2013 21:40        NaN\n",
       "2  7/4/2013 21:50        27*\n",
       "3  7/4/2013 22:00        28#\n",
       "4  7/4/2013 22:10        28&"
      ]
     },
     "execution_count": 6,
     "metadata": {},
     "output_type": "execute_result"
    }
   ],
   "source": [
    "# Đọc file dữ liệu file_resut.csv\n",
    "df1 = pd.read_csv('file_resut.csv')\n",
    "df1.head()"
   ]
  },
  {
   "cell_type": "code",
   "execution_count": 7,
   "id": "b4242a91",
   "metadata": {},
   "outputs": [
    {
     "data": {
      "text/plain": [
       "(5034, 2)"
      ]
     },
     "execution_count": 7,
     "metadata": {},
     "output_type": "execute_result"
    }
   ],
   "source": [
    "# Xem dữ liệu có bao nhiêu hàng bao nhiêu cột\n",
    "df1.shape"
   ]
  },
  {
   "cell_type": "code",
   "execution_count": 8,
   "id": "314b98c9",
   "metadata": {},
   "outputs": [
    {
     "data": {
      "text/plain": [
       "Index(['datetime', 'waterlevel'], dtype='object')"
      ]
     },
     "execution_count": 8,
     "metadata": {},
     "output_type": "execute_result"
    }
   ],
   "source": [
    "# Xem có những cột gì\n",
    "df1.columns"
   ]
  },
  {
   "cell_type": "code",
   "execution_count": 9,
   "id": "a5491e1d",
   "metadata": {},
   "outputs": [
    {
     "data": {
      "text/plain": [
       "array([nan, '27*', '28#', '28&', '28!', '29#', '24', '25', '27', '29',\n",
       "       '30', '28', '31', '32', '33', '17', '18', '15', '16', '11', '10',\n",
       "       '13', '12', '14', '19', '20', '23', '22', '26', '35', '34', '37',\n",
       "       '36', '40', '41', '42', '45', '55', '57', '58', '59', '60', '61',\n",
       "       '62', '63', '65', '67', '68', '70', '71', '73', '74', '75', '77',\n",
       "       '76', '79', '80', '81', '82', '78', '83', '72', '84', '86', '87',\n",
       "       '88', '85', '69', '66', '64', '56', '53', '54', '49', '50', '47',\n",
       "       '48', '51', '52', '46', '44', '43', '39', '38', '21', '6', '9',\n",
       "       '7', '8', '5', '4', '3'], dtype=object)"
      ]
     },
     "execution_count": 9,
     "metadata": {},
     "output_type": "execute_result"
    }
   ],
   "source": [
    "# Xem các giá trị của cột waterlevel\n",
    "df1['waterlevel'].unique()"
   ]
  },
  {
   "cell_type": "code",
   "execution_count": 10,
   "id": "3e55f175",
   "metadata": {
    "scrolled": true
   },
   "outputs": [
    {
     "data": {
      "text/plain": [
       "37     200\n",
       "38     174\n",
       "40     163\n",
       "36     157\n",
       "32     148\n",
       "      ... \n",
       "28#      1\n",
       "29#      1\n",
       "28!      1\n",
       "28&      1\n",
       "27*      1\n",
       "Name: waterlevel, Length: 91, dtype: int64"
      ]
     },
     "execution_count": 10,
     "metadata": {},
     "output_type": "execute_result"
    }
   ],
   "source": [
    "# Đếm số lượng giá trị của cột waterlevel\n",
    "df1['waterlevel'].value_counts()"
   ]
  },
  {
   "cell_type": "code",
   "execution_count": 11,
   "id": "0628a7b5",
   "metadata": {
    "scrolled": true
   },
   "outputs": [
    {
     "name": "stdout",
     "output_type": "stream",
     "text": [
      "0        NaN\n",
      "1        NaN\n",
      "2       27.0\n",
      "3       28.0\n",
      "4       28.0\n",
      "        ... \n",
      "5029    73.0\n",
      "5030    74.0\n",
      "5031    76.0\n",
      "5032    77.0\n",
      "5033    78.0\n",
      "Name: waterlevel, Length: 5034, dtype: float64\n",
      "             datetime  waterlevel\n",
      "0      7/4/2013 21:30         NaN\n",
      "1      7/4/2013 21:40         NaN\n",
      "2      7/4/2013 21:50        27.0\n",
      "3      7/4/2013 22:00        28.0\n",
      "4      7/4/2013 22:10        28.0\n",
      "...               ...         ...\n",
      "5029  8/14/2013 02:50        73.0\n",
      "5030  8/14/2013 03:00        74.0\n",
      "5031  8/14/2013 03:10        76.0\n",
      "5032  8/14/2013 03:20        77.0\n",
      "5033  8/14/2013 03:30        78.0\n",
      "\n",
      "[5034 rows x 2 columns]\n"
     ]
    },
    {
     "name": "stderr",
     "output_type": "stream",
     "text": [
      "C:\\Users\\computer\\AppData\\Local\\Temp\\ipykernel_10264\\2155488275.py:2: FutureWarning: The default value of regex will change from True to False in a future version.\n",
      "  df1['waterlevel'] = df1['waterlevel'].astype(str).str.replace(r'\\W', '')\n"
     ]
    }
   ],
   "source": [
    "# Xử lý loại bỏ các ký tự đặc biệt\n",
    "df1['waterlevel'] = df1['waterlevel'].astype(str).str.replace(r'\\W', '')\n",
    "df1['waterlevel'] = df1['waterlevel'].astype(float)\n",
    "print(df1['waterlevel'])\n",
    "print(df1)"
   ]
  },
  {
   "cell_type": "code",
   "execution_count": 12,
   "id": "d0d99db1",
   "metadata": {},
   "outputs": [
    {
     "data": {
      "text/plain": [
       "datetime      0\n",
       "waterlevel    0\n",
       "dtype: int64"
      ]
     },
     "execution_count": 12,
     "metadata": {},
     "output_type": "execute_result"
    }
   ],
   "source": [
    "# Xử lý các giá trị null\n",
    "# Đếm từng cột xem có bao nhiêu giá trị null\n",
    "df1.isnull().sum()\n",
    "# # Gán giá trị null bằng giá trị trung bình của cột đó\n",
    "df2 = df1.fillna(df1['waterlevel'].mean())\n",
    "df2.isnull().sum()"
   ]
  },
  {
   "cell_type": "code",
   "execution_count": 13,
   "id": "5904451d",
   "metadata": {},
   "outputs": [
    {
     "name": "stdout",
     "output_type": "stream",
     "text": [
      "             datetime  waterlevel\n",
      "0      7/4/2013 21:30   39.033386\n",
      "1      7/4/2013 21:40   39.033386\n",
      "2      7/4/2013 21:50   27.000000\n",
      "3      7/4/2013 22:00   28.000000\n",
      "4      7/4/2013 22:10   28.000000\n",
      "...               ...         ...\n",
      "5029  8/14/2013 02:50   73.000000\n",
      "5030  8/14/2013 03:00   74.000000\n",
      "5031  8/14/2013 03:10   76.000000\n",
      "5032  8/14/2013 03:20   77.000000\n",
      "5033  8/14/2013 03:30   78.000000\n",
      "\n",
      "[5034 rows x 2 columns]\n"
     ]
    }
   ],
   "source": [
    "df3 = DataFrame(df2, columns= ['datetime','waterlevel'])\n",
    "# Đường dẫn, nơi lưu trữ tệp kết quả\n",
    "export_csv = df3.to_csv(r'file_resut_2.csv', index = None, header=True)\n",
    "print (df3)"
   ]
  },
  {
   "cell_type": "code",
   "execution_count": null,
   "id": "5aa686f4",
   "metadata": {},
   "outputs": [],
   "source": []
  }
 ],
 "metadata": {
  "kernelspec": {
   "display_name": "Python 3 (ipykernel)",
   "language": "python",
   "name": "python3"
  },
  "language_info": {
   "codemirror_mode": {
    "name": "ipython",
    "version": 3
   },
   "file_extension": ".py",
   "mimetype": "text/x-python",
   "name": "python",
   "nbconvert_exporter": "python",
   "pygments_lexer": "ipython3",
   "version": "3.9.12"
  }
 },
 "nbformat": 4,
 "nbformat_minor": 5
}
